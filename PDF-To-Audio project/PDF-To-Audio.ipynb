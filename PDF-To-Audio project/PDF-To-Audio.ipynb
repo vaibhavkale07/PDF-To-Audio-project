{
 "cells": [
  {
   "cell_type": "code",
   "execution_count": 1,
   "id": "d2b63346",
   "metadata": {},
   "outputs": [],
   "source": [
    "import pyttsx3\n",
    "import PyPDF2"
   ]
  },
  {
   "cell_type": "code",
   "execution_count": 2,
   "id": "ab0ecbba",
   "metadata": {},
   "outputs": [],
   "source": [
    "book = open('India is my country.pdf','rb')"
   ]
  },
  {
   "cell_type": "code",
   "execution_count": 3,
   "id": "1c295979",
   "metadata": {},
   "outputs": [],
   "source": [
    "pdf_reader = PyPDF2.PdfFileReader(book)"
   ]
  },
  {
   "cell_type": "code",
   "execution_count": 4,
   "id": "2e01c1f2",
   "metadata": {},
   "outputs": [],
   "source": [
    "num_pages = pdf_reader.numPages"
   ]
  },
  {
   "cell_type": "code",
   "execution_count": 5,
   "id": "1d329ed8",
   "metadata": {},
   "outputs": [],
   "source": [
    "play = pyttsx3.init()\n",
    "# print('playing audio book')"
   ]
  },
  {
   "cell_type": "code",
   "execution_count": null,
   "id": "e05cbd50",
   "metadata": {},
   "outputs": [],
   "source": [
    "for num in range(0,num_pages):\n",
    "    page = pdf_reader.getPage(num)\n",
    "    data = page.extractText()\n",
    "    play.say(data)\n",
    "    play.runAndWait()"
   ]
  },
  {
   "cell_type": "code",
   "execution_count": null,
   "id": "c1d59fad",
   "metadata": {},
   "outputs": [],
   "source": []
  }
 ],
 "metadata": {
  "kernelspec": {
   "display_name": "Python 3 (ipykernel)",
   "language": "python",
   "name": "python3"
  },
  "language_info": {
   "codemirror_mode": {
    "name": "ipython",
    "version": 3
   },
   "file_extension": ".py",
   "mimetype": "text/x-python",
   "name": "python",
   "nbconvert_exporter": "python",
   "pygments_lexer": "ipython3",
   "version": "3.9.7"
  }
 },
 "nbformat": 4,
 "nbformat_minor": 5
}
